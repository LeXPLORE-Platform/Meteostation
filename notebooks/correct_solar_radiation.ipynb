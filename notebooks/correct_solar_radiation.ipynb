{
 "cells": [
  {
   "cell_type": "code",
   "execution_count": 14,
   "id": "439e2953",
   "metadata": {},
   "outputs": [],
   "source": [
    "import pandas as pd\n",
    "import os\n",
    "import numpy as np\n",
    "import matplotlib.pyplot as plt"
   ]
  },
  {
   "cell_type": "code",
   "execution_count": 17,
   "id": "9e31a4b6",
   "metadata": {},
   "outputs": [],
   "source": [
    "folder = \"../data/Level0\"\n",
    "files = os.listdir(folder)\n",
    "files = [f for f in files if \"2024-05\" in f and int(f.split(\"-\")[-1].split(\".\")[0]) > 15]\n",
    "files.sort()\n",
    "for file in files:\n",
    "    df = pd.read_csv(os.path.join(folder, file), header=None)\n",
    "    df.iloc[:, 6] = df.iloc[:, 6] / 5\n",
    "    df.iloc[:, 7] = df.iloc[:, 7] / 5\n",
    "    df.to_csv(os.path.join(\"../data/Level0_s\", file), index=False, header=False)"
   ]
  },
  {
   "cell_type": "code",
   "execution_count": null,
   "id": "7a11ec01",
   "metadata": {},
   "outputs": [],
   "source": []
  }
 ],
 "metadata": {
  "kernelspec": {
   "display_name": "airflow",
   "language": "python",
   "name": "airflow"
  },
  "language_info": {
   "codemirror_mode": {
    "name": "ipython",
    "version": 3
   },
   "file_extension": ".py",
   "mimetype": "text/x-python",
   "name": "python",
   "nbconvert_exporter": "python",
   "pygments_lexer": "ipython3",
   "version": "3.9.16"
  }
 },
 "nbformat": 4,
 "nbformat_minor": 5
}
